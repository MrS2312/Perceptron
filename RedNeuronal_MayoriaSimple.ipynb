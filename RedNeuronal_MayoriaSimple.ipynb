{
 "cells": [
  {
   "cell_type": "markdown",
   "id": "8fd5113d",
   "metadata": {},
   "source": [
    "# Red Neuronal Mayoria Simple"
   ]
  },
  {
   "cell_type": "code",
   "execution_count": 1,
   "id": "27df0162",
   "metadata": {},
   "outputs": [
    {
     "name": "stdout",
     "output_type": "stream",
     "text": [
      "Numero de Capas: 2\n",
      "Neuronas Capa 0: 20\n",
      "Neuronas Capa 1: 20\n",
      "\n",
      "Comenzando entrenamiento...\n",
      "Ingresa Epocas: 600\n",
      "Modelo entrenado!!\n",
      "\n",
      "\n",
      "Precision y Perdida del Modelo\n",
      "\n",
      "Perdida: 0.06587845273315907 %\n",
      "Precision: 100.0 %\n",
      "1/1 [==============================] - 0s 103ms/step\n",
      "\n",
      "Y calculada por el modelo \n",
      "\n",
      "X1 \tX2 \tX3 \tY \tYCalculada \n",
      " 0 \t0 \t0 \t0  \t [0.00014796]\n",
      " 0 \t0 \t1\t0  \t [0.00177407]\n",
      " 0 \t1 \t0\t0  \t [0.00089658]\n",
      " 0 \t1 \t1\t1  \t [0.99897045]\n",
      " 1 \t0 \t0\t0  \t [0.00047239]\n",
      " 1 \t0 \t1\t1  \t [0.99953854]\n",
      " 1 \t1 \t0\t1  \t [0.9995173]\n",
      " 1 \t1 \t1\t1  \t [0.99999726]\n"
     ]
    },
    {
     "data": {
      "image/png": "[encoded data removed]",
      "text/plain": [
       "<Figure size 640x480 with 1 Axes>"
      ]
     },
     "metadata": {},
     "output_type": "display_data"
    }
   ],
   "source": [
    "# Importamos las Librerias\n",
    "import tensorflow as tf\n",
    "import numpy as np\n",
    "from tensorflow import random\n",
    "from tensorflow.keras import Sequential\n",
    "from tensorflow.keras.layers import Flatten, Dense , Activation\n",
    "\n",
    "\n",
    "# import numpy as np\n",
    "# from sklearn import preprocessing\n",
    "# from keras.utils import to_categorical\n",
    "\n",
    "\n",
    "#Definicion de las entradas y las salidas del sistema\n",
    "X = np.array([[0,0,0],\n",
    "              [0,0,1],\n",
    "              [0,1,0],\n",
    "              [0,1,1],\n",
    "              [1,0,0],\n",
    "              [1,0,1],\n",
    "              [1,1,0],\n",
    "              [1,1,1]],\"float32\") \n",
    "\n",
    "Y = np.array([0, 0, 0, 1, 0, 1, 1, 1], \"float32\")\n",
    "\n",
    "# Definicion del Modelo\n",
    "np.random.seed(20)\n",
    "model = Sequential()\n",
    "\n",
    "numCapas = int(input(\"Numero de Capas: \"))\n",
    "model.add(Dense(20, activation='relu', input_dim= 3))\n",
    "\n",
    "for numCapa in range(0, numCapas):\n",
    "    numNeuronas = int(input(\"Neuronas Capa \" + str(numCapa) + \": \"))\n",
    "    model.add(Dense(numNeuronas, activation='relu'))\n",
    "model.add(Dense(1, activation='sigmoid'))\n",
    "\n",
    "\n",
    "#Creacion del optimizador\n",
    "model.compile(\n",
    "    loss='binary_crossentropy', \n",
    "    optimizer='adam', \n",
    "    metrics=['accuracy']\n",
    ")\n",
    "\n",
    "#Entrenamiento del sistema\n",
    "print(\"\\nComenzando entrenamiento...\")\n",
    "numEpocas = int(input(\"Ingresa Epocas: \"))\n",
    "historial = model.fit(X, Y, epochs=numEpocas,  verbose = False) #, batch_size=4)\n",
    "print(\"Modelo entrenado!!\\n\")\n",
    "\n",
    "#Grafica de aprendizaje\n",
    "import matplotlib.pyplot as plt\n",
    "plt.xlabel(\"# Epoca\")\n",
    "plt.ylabel(\"Magnitud de perdida\")\n",
    "plt.plot(historial.history[\"loss\"])\n",
    "\n",
    "#Comprobacion de aprendizaje\n",
    "print(\"\\nPrecision y Perdida del Modelo\")\n",
    "loss, accuracy = model.evaluate(X, Y, verbose=0)\n",
    "print(\"\\nPerdida:\", loss*100, \"%\")\n",
    "print(\"Precision:\", accuracy*100,\"%\")\n",
    "\n",
    "#Valores asignados por el modelo\n",
    "\n",
    "y_predicted = model.predict(X)\n",
    "print(\"\\nY calculada por el modelo \\n\")\n",
    "print(\"X1 \\tX2 \\tX3 \\tY \\tYCalculada \")\n",
    "print( \" 0\", \"\\t0\", \"\\t0 \" \"\\t0 \", \"\\t\", y_predicted[0])\n",
    "print( \" 0\", \"\\t0\", \"\\t1\" \"\\t0 \", \"\\t\", y_predicted[1])\n",
    "print( \" 0\", \"\\t1\", \"\\t0\" \"\\t0 \", \"\\t\", y_predicted[2])\n",
    "print( \" 0\", \"\\t1\", \"\\t1\" \"\\t1 \", \"\\t\", y_predicted[3])\n",
    "print( \" 1\", \"\\t0\", \"\\t0\" \"\\t0 \", \"\\t\", y_predicted[4])\n",
    "print( \" 1\", \"\\t0\", \"\\t1\" \"\\t1 \", \"\\t\", y_predicted[5])\n",
    "print( \" 1\", \"\\t1\", \"\\t0\" \"\\t1 \", \"\\t\", y_predicted[6])\n",
    "print( \" 1\", \"\\t1\", \"\\t1\" \"\\t1 \", \"\\t\", y_predicted[7])"
   ]
  },
  {
   "cell_type": "code",
   "execution_count": null,
   "id": "661bc9b1",
   "metadata": {},
   "outputs": [],
   "source": []
  }
 ],
 "metadata": {
  "kernelspec": {
   "display_name": "Python 3 (ipykernel)",
   "language": "python",
   "name": "python3"
  },
  "language_info": {
   "codemirror_mode": {
    "name": "ipython",
    "version": 3
   },
   "file_extension": ".py",
   "mimetype": "text/x-python",
   "name": "python",
   "nbconvert_exporter": "python",
   "pygments_lexer": "ipython3",
   "version": "3.9.13"
  }
 },
 "nbformat": 4,
 "nbformat_minor": 5
}
